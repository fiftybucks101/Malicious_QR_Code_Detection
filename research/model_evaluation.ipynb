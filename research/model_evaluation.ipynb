{
 "cells": [
  {
   "cell_type": "code",
   "execution_count": 5,
   "metadata": {},
   "outputs": [],
   "source": [
    "import os"
   ]
  },
  {
   "cell_type": "code",
   "execution_count": 6,
   "metadata": {},
   "outputs": [
    {
     "data": {
      "text/plain": [
       "'c:\\\\Users\\\\fifty\\\\OneDrive\\\\Desktop\\\\AI - Data Science\\\\Mlops\\\\Malicious_QR_Code_Detection\\\\research'"
      ]
     },
     "execution_count": 6,
     "metadata": {},
     "output_type": "execute_result"
    }
   ],
   "source": [
    "%pwd"
   ]
  },
  {
   "cell_type": "code",
   "execution_count": 7,
   "metadata": {},
   "outputs": [],
   "source": [
    "os.chdir('../')"
   ]
  },
  {
   "cell_type": "code",
   "execution_count": 8,
   "metadata": {},
   "outputs": [
    {
     "data": {
      "text/plain": [
       "'c:\\\\Users\\\\fifty\\\\OneDrive\\\\Desktop\\\\AI - Data Science\\\\Mlops\\\\Malicious_QR_Code_Detection'"
      ]
     },
     "execution_count": 8,
     "metadata": {},
     "output_type": "execute_result"
    }
   ],
   "source": [
    "%pwd"
   ]
  },
  {
   "cell_type": "code",
   "execution_count": 9,
   "metadata": {},
   "outputs": [],
   "source": [
    "from dataclasses import dataclass\n",
    "from pathlib import Path\n",
    "\n",
    "@dataclass\n",
    "class ModelEvaluationConfig:\n",
    "    root_dir: Path\n",
    "    model_path: str\n",
    "    train_data: str\n",
    "    test_data: str\n",
    "    train_metrics_file: str\n",
    "    test_metrics_file: str"
   ]
  },
  {
   "cell_type": "code",
   "execution_count": 10,
   "metadata": {},
   "outputs": [],
   "source": [
    "from src.MaliciousQRCodeDetection.constants import *\n",
    "from src.MaliciousQRCodeDetection.utils.common import read_yaml, create_directories"
   ]
  },
  {
   "cell_type": "code",
   "execution_count": 11,
   "metadata": {},
   "outputs": [],
   "source": [
    "class ConfigurationManager:\n",
    "    def __init__(self,\n",
    "                 config_filepath = CONFIG_FILE_PATH,\n",
    "                 ):\n",
    "        self.config = read_yaml(config_filepath)\n",
    "\n",
    "        create_directories([self.config.artifacts_root])\n",
    "\n",
    "    def get_model_evaluation_config(self) -> ModelEvaluationConfig:\n",
    "        config = self.config.model_evaluation\n",
    "\n",
    "        create_directories([config.root_dir])\n",
    "\n",
    "        model_evaluation_config = ModelEvaluationConfig(\n",
    "            root_dir = config.root_dir,\n",
    "            model_path = config.model_path,\n",
    "            train_data = config.train_data,\n",
    "            test_data=config.test_data,\n",
    "            train_metrics_file=config.train_metrics_file,\n",
    "            test_metrics_file=config.test_metrics_file,\n",
    "          \n",
    "        )\n",
    "\n",
    "        return model_evaluation_config"
   ]
  },
  {
   "cell_type": "code",
   "execution_count": 12,
   "metadata": {},
   "outputs": [],
   "source": [
    "from sklearn.metrics import classification_report, roc_auc_score, confusion_matrix, accuracy_score, roc_curve\n",
    "import json\n",
    "import pandas as pd\n",
    "from tensorflow.keras.models import load_model"
   ]
  },
  {
   "cell_type": "code",
   "execution_count": 13,
   "metadata": {},
   "outputs": [],
   "source": [
    "from src.MaliciousQRCodeDetection.logging.logger import logger\n",
    "from src.MaliciousQRCodeDetection.exception import MaliciousQRException"
   ]
  },
  {
   "cell_type": "code",
   "execution_count": 24,
   "metadata": {},
   "outputs": [],
   "source": [
    "class ModelEvaluation:\n",
    "    def __init__(self,config: ModelEvaluationConfig):\n",
    "        self.config = config\n",
    "\n",
    "    def metrics(self):\n",
    "\n",
    "        train_df = pd.read_csv(self.config.train_data)\n",
    "        test_df = pd.read_csv(self.config.test_data)\n",
    "        model =  load_model(self.config.model_path)\n",
    "        logger.info('Train data, test data and model loaded sucessfully ..')\n",
    "\n",
    "        X_train = train_df.drop(columns=['result'])\n",
    "        y_train = train_df['result']\n",
    "        X_test = test_df.drop(columns=['result'])\n",
    "        y_test = test_df['result']\n",
    "\n",
    "        # Handle missing values\n",
    "        logger.info(f\"Number of NaNs in y_train: {y_train.isna().sum()}\")\n",
    "        logger.info(f\"Number of NaNs in y_test: {y_test.isna().sum()}\")\n",
    "        logger.info(f\"y_test shape: {y_test.shape}\")\n",
    "\n",
    "        y_train_pred = model.predict(X_train)\n",
    "        y_test_pred = model.predict(X_test)\n",
    "\n",
    "        y_train_binary = [0 if prob < 0.5 else 1 for prob in y_train_pred]\n",
    "        y_test_binary = [0 if prob < 0.5 else 1 for prob in y_test_pred]\n",
    "\n",
    "        train_json = {\n",
    "            'Accuracy Score: ': accuracy_score(y_train,y_train_binary),        \n",
    "        }\n",
    "\n",
    "        test_json = {\n",
    "            'Accuracy Score: ': accuracy_score(y_test,y_test_binary),\n",
    "        }\n",
    "\n",
    "        with open(self.config.train_metrics_file, 'w') as f:\n",
    "            json.dump(train_json, f)\n",
    "\n",
    "        with open(self.config.test_metrics_file, 'w') as f:\n",
    "            json.dump(test_json, f)\n",
    "\n",
    "        \n",
    "        logger.info('Train & Test Metrics Json file saved sucessfully.')\n",
    "\n",
    "\n",
    "\n"
   ]
  },
  {
   "cell_type": "code",
   "execution_count": 1,
   "metadata": {},
   "outputs": [],
   "source": [
    "import sys"
   ]
  },
  {
   "cell_type": "code",
   "execution_count": 25,
   "metadata": {},
   "outputs": [
    {
     "name": "stdout",
     "output_type": "stream",
     "text": [
      "[ 2024-12-29 15:47:41,356] 17 root - INFO - yaml file: config\\config.yaml loaded successfully\n",
      "[ 2024-12-29 15:47:41,357] 31 root - INFO - Created directory at: artifacts\n",
      "[ 2024-12-29 15:47:41,358] 31 root - INFO - Created directory at: artifacts/model_evaluation\n",
      "[ 2024-12-29 15:47:43,455] 10 root - INFO - Train data, test data and model loaded sucessfully ..\n",
      "[ 2024-12-29 15:47:43,495] 18 root - INFO - Number of NaNs in y_train: 0\n",
      "[ 2024-12-29 15:47:43,496] 19 root - INFO - Number of NaNs in y_test: 0\n",
      "[ 2024-12-29 15:47:43,497] 20 root - INFO - y_test shape: (126502,)\n",
      "\u001b[1m15813/15813\u001b[0m \u001b[32m━━━━━━━━━━━━━━━━━━━━\u001b[0m\u001b[37m\u001b[0m \u001b[1m9s\u001b[0m 566us/step\n",
      "\u001b[1m3954/3954\u001b[0m \u001b[32m━━━━━━━━━━━━━━━━━━━━\u001b[0m\u001b[37m\u001b[0m \u001b[1m2s\u001b[0m 550us/step\n",
      "[ 2024-12-29 15:47:58,488] 43 root - INFO - Train & Test Metrics Json file saved sucessfully.\n"
     ]
    }
   ],
   "source": [
    "try:\n",
    "    config = ConfigurationManager()\n",
    "    model_evaluation_config = config.get_model_evaluation_config()\n",
    "    model_evaluation = ModelEvaluation(model_evaluation_config)\n",
    "    model_evaluation.metrics()\n",
    "    \n",
    "except Exception as e:\n",
    "    logger.info('Error occured in model evaluation section..')\n",
    "    raise MaliciousQRException(e,sys)"
   ]
  },
  {
   "cell_type": "code",
   "execution_count": null,
   "metadata": {},
   "outputs": [],
   "source": []
  }
 ],
 "metadata": {
  "kernelspec": {
   "display_name": "malicious_url_detection",
   "language": "python",
   "name": "python3"
  },
  "language_info": {
   "codemirror_mode": {
    "name": "ipython",
    "version": 3
   },
   "file_extension": ".py",
   "mimetype": "text/x-python",
   "name": "python",
   "nbconvert_exporter": "python",
   "pygments_lexer": "ipython3",
   "version": "3.10.16"
  }
 },
 "nbformat": 4,
 "nbformat_minor": 2
}
