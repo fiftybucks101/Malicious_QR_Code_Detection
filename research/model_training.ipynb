{
 "cells": [
  {
   "cell_type": "code",
   "execution_count": 1,
   "metadata": {},
   "outputs": [],
   "source": [
    "import os"
   ]
  },
  {
   "cell_type": "code",
   "execution_count": 2,
   "metadata": {},
   "outputs": [
    {
     "data": {
      "text/plain": [
       "'c:\\\\Users\\\\fifty\\\\OneDrive\\\\Desktop\\\\AI - Data Science\\\\Mlops\\\\Malicious_QR_Code_Detection\\\\research'"
      ]
     },
     "execution_count": 2,
     "metadata": {},
     "output_type": "execute_result"
    }
   ],
   "source": [
    "%pwd"
   ]
  },
  {
   "cell_type": "code",
   "execution_count": 3,
   "metadata": {},
   "outputs": [],
   "source": [
    "os.chdir('../')"
   ]
  },
  {
   "cell_type": "code",
   "execution_count": 4,
   "metadata": {},
   "outputs": [
    {
     "data": {
      "text/plain": [
       "'c:\\\\Users\\\\fifty\\\\OneDrive\\\\Desktop\\\\AI - Data Science\\\\Mlops\\\\Malicious_QR_Code_Detection'"
      ]
     },
     "execution_count": 4,
     "metadata": {},
     "output_type": "execute_result"
    }
   ],
   "source": [
    "%pwd"
   ]
  },
  {
   "cell_type": "code",
   "execution_count": 21,
   "metadata": {},
   "outputs": [],
   "source": [
    "from dataclasses import dataclass\n",
    "from pathlib import Path\n",
    "\n",
    "@dataclass(frozen=True)\n",
    "class ModelTrainerConfig:\n",
    "    root_dir: Path\n",
    "    train_data: str\n",
    "    test_data: str\n",
    "    model_name: str\n",
    "   "
   ]
  },
  {
   "cell_type": "code",
   "execution_count": 5,
   "metadata": {},
   "outputs": [],
   "source": [
    "from src.MaliciousQRCodeDetection.constants import *\n",
    "from src.MaliciousQRCodeDetection.utils.common import read_yaml, create_directories"
   ]
  },
  {
   "cell_type": "code",
   "execution_count": 22,
   "metadata": {},
   "outputs": [],
   "source": [
    "class ConfigurationManager:\n",
    "    def __init__ (\n",
    "            self,\n",
    "            config_filepath = CONFIG_FILE_PATH,\n",
    "            ):\n",
    "        \n",
    "        self.config = read_yaml(config_filepath)\n",
    "\n",
    "        create_directories([self.config.artifacts_root])\n",
    "\n",
    "    def get_model_trainer_config(self) -> ModelTrainerConfig:\n",
    "\n",
    "        config = self.config.model_training\n",
    "\n",
    "        create_directories([config.root_dir])\n",
    "\n",
    "        model_trainer_config = ModelTrainerConfig(\n",
    "            root_dir=config.root_dir,\n",
    "            train_data=config.train_data,\n",
    "            test_data=config.test_data,\n",
    "            model_name=config.model_name,)\n",
    "        \n",
    "        return model_trainer_config\n"
   ]
  },
  {
   "cell_type": "code",
   "execution_count": 11,
   "metadata": {},
   "outputs": [],
   "source": [
    "import tensorflow\n",
    "from tensorflow import keras\n",
    "from tensorflow.keras import Sequential\n",
    "from tensorflow.keras.layers import Dense, Dropout, Activation\n",
    "from keras.callbacks import ModelCheckpoint\n",
    "from tensorflow.keras.regularizers import l2\n",
    "import pandas as pd"
   ]
  },
  {
   "cell_type": "code",
   "execution_count": 14,
   "metadata": {},
   "outputs": [],
   "source": [
    "from src.MaliciousQRCodeDetection.logging.logger import logger\n",
    "from src.MaliciousQRCodeDetection.exception import MaliciousQRException"
   ]
  },
  {
   "cell_type": "code",
   "execution_count": 24,
   "metadata": {},
   "outputs": [],
   "source": [
    "class ModelTrainer:\n",
    "    def __init__ (self, config: ModelTrainerConfig):\n",
    "        self.config = config\n",
    "\n",
    "    def Train(self):\n",
    "\n",
    "        train_data = pd.read_csv(self.config.train_data)\n",
    "        logger.info('Train data read Successfully')\n",
    "\n",
    "        X_train = train_data.drop(columns=['result'])\n",
    "        y_train = train_data['result']\n",
    "\n",
    "        model = Sequential()\n",
    "\n",
    "        model.add(Dense(32, activation='relu', input_shape=(23,), kernel_regularizer=l2(0.01)))\n",
    "        model.add(Dropout(0.2))  \n",
    "        \n",
    "        model.add(Dense(16, activation='relu', kernel_regularizer=l2(0.01)))        \n",
    "        model.add(Dropout(0.2))  \n",
    "\n",
    "        model.add(Dense(8, activation='relu', kernel_regularizer=l2(0.01)))   \n",
    "        model.add(Dropout(0.2))  \n",
    "\n",
    "        model.add(Dense(1, activation='sigmoid'))\n",
    "\n",
    "        model.compile(optimizer= 'adam',loss='binary_crossentropy',metrics=['acc'])\n",
    "\n",
    "        checkpointer = ModelCheckpoint(\n",
    "            self.config.model_name,    # Filepath to save the model\n",
    "            monitor='val_acc',    # Metric to monitor for improvement\n",
    "            mode='max',           # Save model when the monitored metric is maximized\n",
    "            verbose=2,            # Print messages when saving the model\n",
    "            save_best_only=True,   # Only save the model if it's the best so far\n",
    "        )\n",
    "\n",
    "\n",
    "        history=model.fit(X_train, y_train, batch_size=128, epochs=10, validation_split=0.2 , callbacks=[checkpointer])\n",
    "        logger.info('Model Training Completed ......')"
   ]
  },
  {
   "cell_type": "code",
   "execution_count": 16,
   "metadata": {},
   "outputs": [],
   "source": [
    "import sys"
   ]
  },
  {
   "cell_type": "code",
   "execution_count": 25,
   "metadata": {},
   "outputs": [
    {
     "name": "stdout",
     "output_type": "stream",
     "text": [
      "[ 2024-12-29 14:19:04,961] 17 root - INFO - yaml file: config\\config.yaml loaded successfully\n",
      "[ 2024-12-29 14:19:04,962] 31 root - INFO - Created directory at: artifacts\n",
      "[ 2024-12-29 14:19:04,963] 31 root - INFO - Created directory at: artifacts/model_training\n",
      "[ 2024-12-29 14:19:06,494] 8 root - INFO - Train data read Successfully\n",
      "Epoch 1/10\n"
     ]
    },
    {
     "name": "stderr",
     "output_type": "stream",
     "text": [
      "c:\\Users\\fifty\\anaconda3\\envs\\malicious_url_detection\\lib\\site-packages\\keras\\src\\layers\\core\\dense.py:87: UserWarning: Do not pass an `input_shape`/`input_dim` argument to a layer. When using Sequential models, prefer using an `Input(shape)` object as the first layer in the model instead.\n",
      "  super().__init__(activity_regularizer=activity_regularizer, **kwargs)\n"
     ]
    },
    {
     "name": "stdout",
     "output_type": "stream",
     "text": [
      "\u001b[1m3119/3163\u001b[0m \u001b[32m━━━━━━━━━━━━━━━━━━━\u001b[0m\u001b[37m━\u001b[0m \u001b[1m0s\u001b[0m 1ms/step - acc: 0.9481 - loss: 0.3181\n",
      "Epoch 1: val_acc improved from -inf to 0.99564, saving model to artifacts/model_training/model.keras\n",
      "\u001b[1m3163/3163\u001b[0m \u001b[32m━━━━━━━━━━━━━━━━━━━━\u001b[0m\u001b[37m\u001b[0m \u001b[1m5s\u001b[0m 1ms/step - acc: 0.9486 - loss: 0.3158 - val_acc: 0.9956 - val_loss: 0.0673\n",
      "Epoch 2/10\n",
      "\u001b[1m3128/3163\u001b[0m \u001b[32m━━━━━━━━━━━━━━━━━━━\u001b[0m\u001b[37m━\u001b[0m \u001b[1m0s\u001b[0m 1ms/step - acc: 0.9899 - loss: 0.0820\n",
      "Epoch 2: val_acc did not improve from 0.99564\n",
      "\u001b[1m3163/3163\u001b[0m \u001b[32m━━━━━━━━━━━━━━━━━━━━\u001b[0m\u001b[37m\u001b[0m \u001b[1m4s\u001b[0m 1ms/step - acc: 0.9899 - loss: 0.0820 - val_acc: 0.9953 - val_loss: 0.0581\n",
      "Epoch 3/10\n",
      "\u001b[1m3130/3163\u001b[0m \u001b[32m━━━━━━━━━━━━━━━━━━━\u001b[0m\u001b[37m━\u001b[0m \u001b[1m0s\u001b[0m 1ms/step - acc: 0.9905 - loss: 0.0709\n",
      "Epoch 3: val_acc did not improve from 0.99564\n",
      "\u001b[1m3163/3163\u001b[0m \u001b[32m━━━━━━━━━━━━━━━━━━━━\u001b[0m\u001b[37m\u001b[0m \u001b[1m4s\u001b[0m 1ms/step - acc: 0.9905 - loss: 0.0709 - val_acc: 0.9956 - val_loss: 0.0506\n",
      "Epoch 4/10\n",
      "\u001b[1m3137/3163\u001b[0m \u001b[32m━━━━━━━━━━━━━━━━━━━\u001b[0m\u001b[37m━\u001b[0m \u001b[1m0s\u001b[0m 1ms/step - acc: 0.9902 - loss: 0.0655\n",
      "Epoch 4: val_acc improved from 0.99564 to 0.99581, saving model to artifacts/model_training/model.keras\n",
      "\u001b[1m3163/3163\u001b[0m \u001b[32m━━━━━━━━━━━━━━━━━━━━\u001b[0m\u001b[37m\u001b[0m \u001b[1m4s\u001b[0m 1ms/step - acc: 0.9902 - loss: 0.0655 - val_acc: 0.9958 - val_loss: 0.0462\n",
      "Epoch 5/10\n",
      "\u001b[1m3151/3163\u001b[0m \u001b[32m━━━━━━━━━━━━━━━━━━━\u001b[0m\u001b[37m━\u001b[0m \u001b[1m0s\u001b[0m 1ms/step - acc: 0.9908 - loss: 0.0617\n",
      "Epoch 5: val_acc improved from 0.99581 to 0.99591, saving model to artifacts/model_training/model.keras\n",
      "\u001b[1m3163/3163\u001b[0m \u001b[32m━━━━━━━━━━━━━━━━━━━━\u001b[0m\u001b[37m\u001b[0m \u001b[1m4s\u001b[0m 1ms/step - acc: 0.9908 - loss: 0.0617 - val_acc: 0.9959 - val_loss: 0.0454\n",
      "Epoch 6/10\n",
      "\u001b[1m3132/3163\u001b[0m \u001b[32m━━━━━━━━━━━━━━━━━━━\u001b[0m\u001b[37m━\u001b[0m \u001b[1m0s\u001b[0m 1ms/step - acc: 0.9906 - loss: 0.0598\n",
      "Epoch 6: val_acc improved from 0.99591 to 0.99592, saving model to artifacts/model_training/model.keras\n",
      "\u001b[1m3163/3163\u001b[0m \u001b[32m━━━━━━━━━━━━━━━━━━━━\u001b[0m\u001b[37m\u001b[0m \u001b[1m4s\u001b[0m 1ms/step - acc: 0.9906 - loss: 0.0598 - val_acc: 0.9959 - val_loss: 0.0449\n",
      "Epoch 7/10\n",
      "\u001b[1m3141/3163\u001b[0m \u001b[32m━━━━━━━━━━━━━━━━━━━\u001b[0m\u001b[37m━\u001b[0m \u001b[1m0s\u001b[0m 1ms/step - acc: 0.9908 - loss: 0.0582\n",
      "Epoch 7: val_acc did not improve from 0.99592\n",
      "\u001b[1m3163/3163\u001b[0m \u001b[32m━━━━━━━━━━━━━━━━━━━━\u001b[0m\u001b[37m\u001b[0m \u001b[1m4s\u001b[0m 1ms/step - acc: 0.9908 - loss: 0.0582 - val_acc: 0.9958 - val_loss: 0.0418\n",
      "Epoch 8/10\n",
      "\u001b[1m3143/3163\u001b[0m \u001b[32m━━━━━━━━━━━━━━━━━━━\u001b[0m\u001b[37m━\u001b[0m \u001b[1m0s\u001b[0m 1ms/step - acc: 0.9908 - loss: 0.0561\n",
      "Epoch 8: val_acc improved from 0.99592 to 0.99597, saving model to artifacts/model_training/model.keras\n",
      "\u001b[1m3163/3163\u001b[0m \u001b[32m━━━━━━━━━━━━━━━━━━━━\u001b[0m\u001b[37m\u001b[0m \u001b[1m4s\u001b[0m 1ms/step - acc: 0.9908 - loss: 0.0561 - val_acc: 0.9960 - val_loss: 0.0421\n",
      "Epoch 9/10\n",
      "\u001b[1m3144/3163\u001b[0m \u001b[32m━━━━━━━━━━━━━━━━━━━\u001b[0m\u001b[37m━\u001b[0m \u001b[1m0s\u001b[0m 1ms/step - acc: 0.9907 - loss: 0.0562\n",
      "Epoch 9: val_acc did not improve from 0.99597\n",
      "\u001b[1m3163/3163\u001b[0m \u001b[32m━━━━━━━━━━━━━━━━━━━━\u001b[0m\u001b[37m\u001b[0m \u001b[1m4s\u001b[0m 1ms/step - acc: 0.9907 - loss: 0.0561 - val_acc: 0.9958 - val_loss: 0.0425\n",
      "Epoch 10/10\n",
      "\u001b[1m3142/3163\u001b[0m \u001b[32m━━━━━━━━━━━━━━━━━━━\u001b[0m\u001b[37m━\u001b[0m \u001b[1m0s\u001b[0m 1ms/step - acc: 0.9906 - loss: 0.0554\n",
      "Epoch 10: val_acc did not improve from 0.99597\n",
      "\u001b[1m3163/3163\u001b[0m \u001b[32m━━━━━━━━━━━━━━━━━━━━\u001b[0m\u001b[37m\u001b[0m \u001b[1m4s\u001b[0m 1ms/step - acc: 0.9906 - loss: 0.0554 - val_acc: 0.9954 - val_loss: 0.0414\n",
      "[ 2024-12-29 14:19:50,230] 38 root - INFO - Model Training Completed ......\n"
     ]
    }
   ],
   "source": [
    "try:\n",
    "    config = ConfigurationManager()\n",
    "    model_trainer_config = config.get_model_trainer_config()\n",
    "    model_trainer = ModelTrainer(model_trainer_config)\n",
    "    model_trainer.Train()\n",
    "except Exception as e:\n",
    "    logger.info('Problem during model training...')\n",
    "    raise MaliciousQRException(e,sys)"
   ]
  },
  {
   "cell_type": "code",
   "execution_count": null,
   "metadata": {},
   "outputs": [],
   "source": []
  }
 ],
 "metadata": {
  "kernelspec": {
   "display_name": "malicious_url_detection",
   "language": "python",
   "name": "python3"
  },
  "language_info": {
   "codemirror_mode": {
    "name": "ipython",
    "version": 3
   },
   "file_extension": ".py",
   "mimetype": "text/x-python",
   "name": "python",
   "nbconvert_exporter": "python",
   "pygments_lexer": "ipython3",
   "version": "3.10.16"
  }
 },
 "nbformat": 4,
 "nbformat_minor": 2
}
