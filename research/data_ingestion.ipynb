{
 "cells": [
  {
   "cell_type": "code",
   "execution_count": 1,
   "metadata": {},
   "outputs": [],
   "source": [
    "import os\n",
    "import sys\n",
    "from pathlib import Path "
   ]
  },
  {
   "cell_type": "code",
   "execution_count": 2,
   "metadata": {},
   "outputs": [
    {
     "data": {
      "text/plain": [
       "'c:\\\\Users\\\\fifty\\\\OneDrive\\\\Desktop\\\\AI - Data Science\\\\Malicious_QR_Code_Detection - 0.2\\\\research'"
      ]
     },
     "execution_count": 2,
     "metadata": {},
     "output_type": "execute_result"
    }
   ],
   "source": [
    "%pwd"
   ]
  },
  {
   "cell_type": "code",
   "execution_count": 3,
   "metadata": {},
   "outputs": [],
   "source": [
    "os.chdir(\"../\")"
   ]
  },
  {
   "cell_type": "code",
   "execution_count": 4,
   "metadata": {},
   "outputs": [
    {
     "data": {
      "text/plain": [
       "'c:\\\\Users\\\\fifty\\\\OneDrive\\\\Desktop\\\\AI - Data Science\\\\Malicious_QR_Code_Detection - 0.2'"
      ]
     },
     "execution_count": 4,
     "metadata": {},
     "output_type": "execute_result"
    }
   ],
   "source": [
    "%pwd"
   ]
  },
  {
   "cell_type": "code",
   "execution_count": 5,
   "metadata": {},
   "outputs": [],
   "source": [
    "from dataclasses import dataclass\n",
    "from pathlib import Path\n",
    "\n",
    "@dataclass(frozen=True)\n",
    "class DataIngestionConfig:\n",
    "    root_dir: Path\n",
    "    \n",
    "    csv_dir: Path\n",
    "    csv_file: str"
   ]
  },
  {
   "cell_type": "code",
   "execution_count": 6,
   "metadata": {},
   "outputs": [],
   "source": [
    "from src.MaliciousQRCodeDetection.constants import *\n",
    "from src.MaliciousQRCodeDetection.utils.common import read_yaml, create_directories"
   ]
  },
  {
   "cell_type": "code",
   "execution_count": 7,
   "metadata": {},
   "outputs": [],
   "source": [
    "class ConfigurationManager:\n",
    "    def __init__(\n",
    "            self,\n",
    "            config_filepath = CONFIG_FILE_PATH):\n",
    "        \n",
    "        self.config = read_yaml(config_filepath)\n",
    "\n",
    "        create_directories([self.config.artifacts_root])\n",
    "\n",
    "    def get_data_ingestion_config(self) -> DataIngestionConfig:\n",
    "        config = self.config.data_ingestion\n",
    "\n",
    "        create_directories([config.root_dir])\n",
    "\n",
    "        data_ingestion_config = DataIngestionConfig(\n",
    "            root_dir = config.root_dir,\n",
    "            csv_dir = config.csv_dir,\n",
    "            csv_file = config.csv_file\n",
    "        )\n",
    "\n",
    "        return data_ingestion_config\n",
    "    "
   ]
  },
  {
   "cell_type": "code",
   "execution_count": 8,
   "metadata": {},
   "outputs": [],
   "source": [
    "from src.MaliciousQRCodeDetection.logging.logger import logger\n",
    "from src.MaliciousQRCodeDetection.exception import MaliciousQRException\n",
    "from src.MaliciousQRCodeDetection.utils.common import get_size\n",
    "import urllib.request as request"
   ]
  },
  {
   "cell_type": "code",
   "execution_count": 8,
   "metadata": {},
   "outputs": [],
   "source": [
    "import os\n",
    "import pymongo\n",
    "import certifi\n",
    "import pandas as pd\n",
    "import numpy as np\n",
    "from dotenv import load_dotenv\n",
    "from MaliciousQRCodeDetection.exception import MaliciousQRException\n",
    "from MaliciousQRCodeDetection.logging.logger import logger\n",
    "from MaliciousQRCodeDetection.constants import db_name, mongodb_url_key, collection_name\n",
    "import sys"
   ]
  },
  {
   "cell_type": "code",
   "execution_count": 9,
   "metadata": {},
   "outputs": [],
   "source": [
    "class MongoDBClient:\n",
    "    \"\"\"\n",
    "    MongoDBClient: Handles MongoDB connection and data export.\n",
    "\n",
    "    Methods:\n",
    "    - __init__: Initializes MongoDB client connection.\n",
    "    - export_collection_as_dataframe: Exports a MongoDB collection to a Pandas DataFrame.\n",
    "    \"\"\"\n",
    "    def __init__(self, database_name=db_name, collection_name=collection_name) -> None:\n",
    "        try:\n",
    "            # Load environment variables\n",
    "            load_dotenv('project.env')\n",
    "            mongo_db_url = os.getenv(mongodb_url_key)\n",
    "            if not mongo_db_url:\n",
    "                raise ValueError(f\"Environment variable '{mongodb_url_key}' is not set.\")\n",
    "            \n",
    "            # Create MongoDB client\n",
    "            self.client = pymongo.MongoClient(mongo_db_url, tlsCAFile=certifi.where())\n",
    "            self.database = self.client[database_name]\n",
    "            self.collection_name = collection_name\n",
    "            logger.info(\"MongoDB connection established successfully.\")\n",
    "        except Exception as e:\n",
    "            raise MaliciousQRException(e,sys)\n",
    "\n",
    "    def export_collection_as_dataframe(self) -> pd.DataFrame:\n",
    "        \"\"\"\n",
    "        Exports the specified collection as a Pandas DataFrame.\n",
    "        \n",
    "        Returns:\n",
    "            pd.DataFrame: The MongoDB collection as a DataFrame.\n",
    "        \"\"\"\n",
    "        try:\n",
    "            collection = self.database[self.collection_name]\n",
    "            data = list(collection.find())\n",
    "            \n",
    "            # Convert to DataFrame and clean up\n",
    "            df = pd.DataFrame(data)\n",
    "            if \"_id\" in df.columns:\n",
    "                df.drop(columns=[\"_id\"], inplace=True)\n",
    "            df.replace({\"na\": np.nan}, inplace=True)\n",
    "            return df\n",
    "        except Exception as e:\n",
    "            raise MaliciousQRException(e,sys)"
   ]
  },
  {
   "cell_type": "code",
   "execution_count": 10,
   "metadata": {},
   "outputs": [],
   "source": [
    "class DataIngestion:\n",
    "    def __init__(self,config:DataIngestionConfig):\n",
    "        '''\n",
    "        param data_ingestion_config: configuration for data ingestion\n",
    "        '''\n",
    "\n",
    "        try:\n",
    "            self.config = config\n",
    "        except Exception as e:\n",
    "            raise MaliciousQRException(e,sys)\n",
    "\n",
    "    def export_data_into_data_store(self):\n",
    "        try:\n",
    "            data = MongoDBClient()\n",
    "            df = data.export_collection_as_dataframe()\n",
    "\n",
    "            if not os.path.exists(self.config.csv_file):\n",
    "                df.to_csv(self.config.csv_file,index=False)\n",
    "                logger.info('Csv file successully saved in artifacts data ingestion')\n",
    "            else:\n",
    "                logger.info('CSV file already exists in artifacts data ingestion')\n",
    "\n",
    "        except Exception as e:\n",
    "            raise MaliciousQRException(e,sys)"
   ]
  },
  {
   "cell_type": "code",
   "execution_count": 11,
   "metadata": {},
   "outputs": [
    {
     "name": "stdout",
     "output_type": "stream",
     "text": [
      "[ 2025-01-23 06:29:09,187] 17 root - INFO - yaml file: config\\config.yaml loaded successfully\n",
      "[ 2025-01-23 06:29:09,187] 31 root - INFO - Created directory at: artifacts\n",
      "[ 2025-01-23 06:29:09,189] 31 root - INFO - Created directory at: artifacts/data_ingestion\n",
      "[ 2025-01-23 06:29:13,613] 21 root - INFO - MongoDB connection established successfully.\n",
      "[ 2025-01-23 06:29:31,213] 21 root - INFO - CSV file already exists in artifacts data ingestion\n"
     ]
    }
   ],
   "source": [
    "try:\n",
    "    config = ConfigurationManager()\n",
    "    data_ingestion_config = config.get_data_ingestion_config()\n",
    "    data_ingestion = DataIngestion(config=data_ingestion_config)\n",
    "    data_ingestion.export_data_into_data_store()\n",
    "except Exception as e:\n",
    "    logger.error(f'Unexpected error occured while downloading file: {e}')\n",
    "    raise MaliciousQRException(e,sys)"
   ]
  },
  {
   "cell_type": "code",
   "execution_count": null,
   "metadata": {},
   "outputs": [],
   "source": []
  },
  {
   "cell_type": "code",
   "execution_count": null,
   "metadata": {},
   "outputs": [],
   "source": []
  }
 ],
 "metadata": {
  "kernelspec": {
   "display_name": "malicious_url_detection",
   "language": "python",
   "name": "python3"
  },
  "language_info": {
   "codemirror_mode": {
    "name": "ipython",
    "version": 3
   },
   "file_extension": ".py",
   "mimetype": "text/x-python",
   "name": "python",
   "nbconvert_exporter": "python",
   "pygments_lexer": "ipython3",
   "version": "3.10.16"
  }
 },
 "nbformat": 4,
 "nbformat_minor": 2
}
