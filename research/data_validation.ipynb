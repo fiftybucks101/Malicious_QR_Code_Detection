{
 "cells": [
  {
   "cell_type": "code",
   "execution_count": 1,
   "metadata": {},
   "outputs": [],
   "source": [
    "import os"
   ]
  },
  {
   "cell_type": "code",
   "execution_count": 2,
   "metadata": {},
   "outputs": [
    {
     "data": {
      "text/plain": [
       "'c:\\\\Users\\\\fifty\\\\OneDrive\\\\Desktop\\\\AI - Data Science\\\\Mlops\\\\Malicious_QR_Code_Detection\\\\research'"
      ]
     },
     "execution_count": 2,
     "metadata": {},
     "output_type": "execute_result"
    }
   ],
   "source": [
    "%pwd"
   ]
  },
  {
   "cell_type": "code",
   "execution_count": 3,
   "metadata": {},
   "outputs": [],
   "source": [
    "os.chdir('../')"
   ]
  },
  {
   "cell_type": "code",
   "execution_count": 4,
   "metadata": {},
   "outputs": [
    {
     "data": {
      "text/plain": [
       "'c:\\\\Users\\\\fifty\\\\OneDrive\\\\Desktop\\\\AI - Data Science\\\\Mlops\\\\Malicious_QR_Code_Detection'"
      ]
     },
     "execution_count": 4,
     "metadata": {},
     "output_type": "execute_result"
    }
   ],
   "source": [
    "%pwd"
   ]
  },
  {
   "cell_type": "code",
   "execution_count": 13,
   "metadata": {},
   "outputs": [],
   "source": [
    "from pathlib import Path\n",
    "from dataclasses import dataclass\n",
    "import pandas as pd\n",
    "import sys"
   ]
  },
  {
   "cell_type": "code",
   "execution_count": 28,
   "metadata": {},
   "outputs": [],
   "source": [
    "@dataclass\n",
    "class DataValidationConfig:\n",
    "    root_dir: Path\n",
    "    status_file: str\n",
    "    train_data: str\n",
    "    test_data: str\n",
    "    schema: dict\n",
    "    status_file: str"
   ]
  },
  {
   "cell_type": "code",
   "execution_count": 6,
   "metadata": {},
   "outputs": [],
   "source": [
    "from src.MaliciousQRCodeDetection.constants import *\n",
    "from src.MaliciousQRCodeDetection.utils.common import read_yaml, create_directories"
   ]
  },
  {
   "cell_type": "code",
   "execution_count": 29,
   "metadata": {},
   "outputs": [],
   "source": [
    "class ConfigurationManager:\n",
    "    def __init__(\n",
    "            self,\n",
    "            config_filepath = CONFIG_FILE_PATH,\n",
    "            schema_filepath = SCHEMA_FILE_PATH):\n",
    "        \n",
    "        self.config = read_yaml(config_filepath)\n",
    "        self.schema = read_yaml(schema_filepath)\n",
    "\n",
    "        create_directories([self.config.artifacts_root])\n",
    "\n",
    "    def get_data_validation_config(self) -> DataValidationConfig:\n",
    "        config = self.config.data_validation\n",
    "        schema = self.schema\n",
    "\n",
    "        create_directories([config.root_dir])\n",
    "\n",
    "        data_validation_config = DataValidationConfig(\n",
    "            root_dir = config.root_dir,\n",
    "            status_file = config.status_file,\n",
    "            schema = schema,\n",
    "            train_data = config.train_data,\n",
    "            test_data=config.test_data\n",
    "        )\n",
    "\n",
    "        return data_validation_config"
   ]
  },
  {
   "cell_type": "code",
   "execution_count": 9,
   "metadata": {},
   "outputs": [],
   "source": [
    "from src.MaliciousQRCodeDetection.logging.logger import logger\n",
    "from src.MaliciousQRCodeDetection.exception import MaliciousQRException"
   ]
  },
  {
   "cell_type": "code",
   "execution_count": 30,
   "metadata": {},
   "outputs": [],
   "source": [
    "class DataValidation:\n",
    "    def __init__(self,config: DataValidationConfig):\n",
    "        self.config = config\n",
    "\n",
    "    def validate_all_columns(self) -> bool:\n",
    "        try:\n",
    "            validation_status: None\n",
    "\n",
    "            train_data = pd.read_csv(self.config.train_data)\n",
    "            test_data = pd.read_csv(self.config.test_data)\n",
    "\n",
    "            combined_data = pd.concat([train_data, test_data], axis=0, ignore_index=True)\n",
    "\n",
    "            all_cols = list(combined_data.columns)\n",
    "            all_schema = list(self.config.schema['columns'].keys())\n",
    "\n",
    "            for col in all_cols:\n",
    "                if col not in all_schema:\n",
    "                    validation_status = False\n",
    "                    with open(self.config.status_file, 'w') as f:\n",
    "                        f.write(f\"Validation Status: {validation_status}\")\n",
    "            else:\n",
    "                validation_status = True\n",
    "                with open(self.config.status_file, 'w') as f:\n",
    "                    f.write(f\"Validation Status: {validation_status}\")\n",
    "            logger.info('Data validation successfully done..')\n",
    "            return validation_status            \n",
    "        except Exception as e:\n",
    "            raise MaliciousQRException(e,sys)"
   ]
  },
  {
   "cell_type": "code",
   "execution_count": 31,
   "metadata": {},
   "outputs": [
    {
     "name": "stdout",
     "output_type": "stream",
     "text": [
      "[ 2024-12-26 13:50:05,802] 17 root - INFO - yaml file: config\\config.yaml loaded successfully\n",
      "[ 2024-12-26 13:50:05,805] 17 root - INFO - yaml file: schema.yaml loaded successfully\n",
      "[ 2024-12-26 13:50:05,806] 31 root - INFO - Created directory at: artifacts\n",
      "[ 2024-12-26 13:50:05,807] 31 root - INFO - Created directory at: artifacts/data_validation\n",
      "[ 2024-12-26 13:50:08,981] 26 root - INFO - Data validation successfully done..\n"
     ]
    }
   ],
   "source": [
    "try:\n",
    "    config = ConfigurationManager()\n",
    "    data_validation_config = config.get_data_validation_config()\n",
    "    data_validation = DataValidation(data_validation_config)\n",
    "    data_validation.validate_all_columns()\n",
    "except Exception as e:\n",
    "    raise MaliciousQRException(e,sys)"
   ]
  },
  {
   "cell_type": "code",
   "execution_count": null,
   "metadata": {},
   "outputs": [],
   "source": []
  }
 ],
 "metadata": {
  "kernelspec": {
   "display_name": "malicious_url_detection",
   "language": "python",
   "name": "python3"
  },
  "language_info": {
   "codemirror_mode": {
    "name": "ipython",
    "version": 3
   },
   "file_extension": ".py",
   "mimetype": "text/x-python",
   "name": "python",
   "nbconvert_exporter": "python",
   "pygments_lexer": "ipython3",
   "version": "3.10.16"
  }
 },
 "nbformat": 4,
 "nbformat_minor": 2
}
